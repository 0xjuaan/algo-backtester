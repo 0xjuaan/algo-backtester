{
 "cells": [
  {
   "cell_type": "code",
   "execution_count": null,
   "id": "bbb82860",
   "metadata": {},
   "outputs": [],
   "source": [
    "# this is for development\n",
    "from qfinuwa import Algorithm\n",
    "from qfinuwa import Backtester\n",
    "from qfinuwa import API\n",
    "\n",
    "import random"
   ]
  },
  {
   "cell_type": "code",
   "execution_count": null,
   "id": "e3bd22c4",
   "metadata": {},
   "outputs": [],
   "source": [
    "data_folder_dir = r\"C:\\Users\\isaac\\Downloads\\data\"\n",
    "\n",
    "data_fetcher = API(api_key_path='API_key.txt',\n",
    "                data_folder=data_folder_dir)\n",
    "\n",
    "# data_fetcher.fetch_data(['GOOG', 'AAPL', 'TSLA', 'IBM'])"
   ]
  },
  {
   "cell_type": "code",
   "execution_count": null,
   "id": "9b185011",
   "metadata": {},
   "outputs": [],
   "source": [
    "class RandomAlgorithm(Algorithm):\n",
    "\n",
    "    @Algorithm.indicator\n",
    "    def vol_difference(data, lookback=100, gum = None):\n",
    "        return data['volume'].diff() + lookback\n",
    "\n",
    "    @Algorithm.indicator\n",
    "    def cumsum(data, sum=None):\n",
    "        return data['volume'].cumsum()\n",
    "\n",
    "    def __init__(self, name=None, bruh=None):\n",
    "        super().__init__()\n",
    "        self.dir = ['BUY', 'SELL']\n",
    "\n",
    "\n",
    "    def on_data(self, data, indicators, portfolio):\n",
    "\n",
    "        for stock in portfolio.stocks:\n",
    "            for _ in data: pass\n",
    "            for _ in indicators: pass\n",
    "            action = [portfolio.enter_long, portfolio.sell_long, portfolio.enter_short, portfolio.cover_short][random.randint(0,3)]\n",
    "            action(stock, 1)\n",
    "\n",
    "        return\n",
    "\n"
   ]
  },
  {
   "cell_type": "code",
   "execution_count": null,
   "id": "fc4b01e9",
   "metadata": {},
   "outputs": [],
   "source": [
    "backtester = Backtester( ['AAPL', 'GOOG'],\n",
    "                            data=data_folder_dir,  months=3, fee=0.01)\n",
    "\n",
    "backtester.update_algorithm(RandomAlgorithm)\n",
    "\n",
    "\n",
    "backtester.set_algorithm_params({\n",
    "    \"name\": \"Test\",\n",
    "})\n",
    "\n",
    "backtester.set_indicator_params({\n",
    "    \"vol_difference\": {\n",
    "        \"lookback\": 50,\n",
    "        \"gum\": \"a\",\n",
    "    },\n",
    "    \"cumsum\": {\n",
    "        \"sum\": -2,\n",
    "}})\n"
   ]
  },
  {
   "cell_type": "code",
   "execution_count": null,
   "id": "22ff48dc",
   "metadata": {},
   "outputs": [],
   "source": [
    "param_res = []"
   ]
  },
  {
   "cell_type": "code",
   "execution_count": null,
   "id": "43b9f130",
   "metadata": {},
   "outputs": [],
   "source": [
    "\n",
    "result = backtester.run()\n",
    "\n",
    "param_res.append(result)\n",
    "\n",
    "\n",
    "# import time\n",
    "\n",
    "# s = time.time()\n",
    "# a_params, i_params = {\"name\": ['Test'], \"bruh\": [1,2 ]}, {\"vol_difference\": {\"lookback\": [0, 1], \"gum\": ['a', 'c']}, \"cumsum\": {\"cummie\": [-2]}}\n",
    "# results = backtester.backtest_strategies(a_params, i_params, multiprocessing=True)\n",
    "# print(time.time()-s)\n",
    "# results = backtester.run()\n"
   ]
  },
  {
   "cell_type": "code",
   "execution_count": null,
   "id": "0a362f61",
   "metadata": {},
   "outputs": [],
   "source": []
  }
 ],
 "metadata": {
  "kernelspec": {
   "display_name": "Python 3 (ipykernel)",
   "language": "python",
   "name": "python3"
  },
  "language_info": {
   "codemirror_mode": {
    "name": "ipython",
    "version": 3
   },
   "file_extension": ".py",
   "mimetype": "text/x-python",
   "name": "python",
   "nbconvert_exporter": "python",
   "pygments_lexer": "ipython3",
   "version": "3.9.13"
  }
 },
 "nbformat": 4,
 "nbformat_minor": 5
}
