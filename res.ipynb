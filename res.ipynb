{
 "cells": [
  {
   "cell_type": "code",
   "execution_count": 15,
   "metadata": {},
   "outputs": [],
   "source": [
    "import pandas as pd"
   ]
  },
  {
   "cell_type": "code",
   "execution_count": 16,
   "metadata": {},
   "outputs": [],
   "source": [
    "df = pd.read_csv('results.csv')[:1000]\n",
    "\n",
    "aapl = pd.read_csv(r\"C:\\Users\\isaac\\Downloads\\data\\AAPL.csv\")[:1000]\n",
    "goog = pd.read_csv(r\"C:\\Users\\isaac\\Downloads\\data\\GOOG.csv\")[:1000]"
   ]
  },
  {
   "cell_type": "code",
   "execution_count": 17,
   "metadata": {},
   "outputs": [],
   "source": [
    "df['AAPL'] = aapl['close']\n",
    "df['GOOG'] = goog['close']"
   ]
  },
  {
   "cell_type": "code",
   "execution_count": 18,
   "metadata": {},
   "outputs": [],
   "source": [
    "df['AAPL_CUM'] = (df['AAPL_long'] - +df['AAPL_cover'] - df['AAPL_sell'] - df['AAPL_short']).cumsum()\n",
    "df['GOOG_CUM'] = (df['GOOG_long'] - +df['GOOG_cover'] - df['GOOG_sell'] - df['GOOG_short']).cumsum()\n",
    "\n",
    "\n",
    "df['AAPL_val'] = df['AAPL']*df['AAPL_CUM']\n",
    "df['GOOG_val'] = df['GOOG']*df['GOOG_CUM']"
   ]
  },
  {
   "cell_type": "code",
   "execution_count": 19,
   "metadata": {},
   "outputs": [],
   "source": [
    "df['PROFIT'] = df['balance'] + df['AAPL_val'] + df['GOOG_val'] "
   ]
  },
  {
   "cell_type": "code",
   "execution_count": 20,
   "metadata": {},
   "outputs": [
    {
     "data": {
      "text/plain": [
       "<AxesSubplot:>"
      ]
     },
     "execution_count": 20,
     "metadata": {},
     "output_type": "execute_result"
    },
    {
     "data": {
      "image/png": "[encoded data removed]",
      "text/plain": [
       "<Figure size 432x288 with 1 Axes>"
      ]
     },
     "metadata": {
      "needs_background": "light"
     },
     "output_type": "display_data"
    }
   ],
   "source": [
    "df['AAPL_D'] = 10000*df['AAPL']/df['AAPL'][0]\n",
    "df['GOOG_D'] = 10000*df['GOOG']/df['GOOG'][0]\n",
    "df.plot( y=['PROFIT', 'AAPL_D', 'GOOG_D'])"
   ]
  }
 ],
 "metadata": {
  "kernelspec": {
   "display_name": "Python 3",
   "language": "python",
   "name": "python3"
  },
  "language_info": {
   "codemirror_mode": {
    "name": "ipython",
    "version": 3
   },
   "file_extension": ".py",
   "mimetype": "text/x-python",
   "name": "python",
   "nbconvert_exporter": "python",
   "pygments_lexer": "ipython3",
   "version": "3.10.0"
  },
  "orig_nbformat": 4,
  "vscode": {
   "interpreter": {
    "hash": "369f2c481f4da34e4445cda3fffd2e751bd1c4d706f27375911949ba6bb62e1c"
   }
  }
 },
 "nbformat": 4,
 "nbformat_minor": 2
}
