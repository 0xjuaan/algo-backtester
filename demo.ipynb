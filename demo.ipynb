{
 "cells": [
  {
   "cell_type": "code",
   "execution_count": 13,
   "metadata": {},
   "outputs": [],
   "source": [
    "from qfin.backtester import Algorithm, Backtester\n",
    "from qfin.API import API"
   ]
  },
  {
   "cell_type": "code",
   "execution_count": 14,
   "metadata": {},
   "outputs": [],
   "source": [
    "data_folder_dir = r\"C:\\Users\\isaac\\Downloads\\data\""
   ]
  },
  {
   "cell_type": "code",
   "execution_count": 15,
   "metadata": {},
   "outputs": [
    {
     "name": "stdout",
     "output_type": "stream",
     "text": [
      "\n",
      "\n",
      "Retrieving GOOG ...\n",
      " > Downloading (16 threads)\n",
      " > Processing\n",
      " > Saving (213969 rows)\n",
      " > Done\n",
      "\n",
      "Retrieving AAPL ...\n",
      " > Downloading (16 threads)\n",
      " > Processing\n",
      " > Saving (403601 rows)\n",
      " > Done\n",
      "\n",
      "Retrieving TSLA ...\n",
      " > Downloading (16 threads)\n",
      " > Processing\n",
      " > Saving (378920 rows)\n",
      " > Done\n",
      "\n",
      "Retrieving IBM ...\n",
      " > Downloading (16 threads)\n",
      " > Processing\n",
      " > Saving (211157 rows)\n",
      " > Done\n",
      "\n",
      "Aligning data ...\n"
     ]
    },
    {
     "name": "stderr",
     "output_type": "stream",
     "text": [
      " >Filling missing values and Cropping: 100%|██████████| 4/4 [00:08<00:00,  2.05s/it]\n"
     ]
    }
   ],
   "source": [
    "data_fetcher = API(api_key_path='API_key.txt',\n",
    "                   data_folder=data_folder_dir)\n",
    "\n",
    "data_fetcher.fetch_data(['GOOG', 'AAPL', 'TSLA', 'IBM'])"
   ]
  },
  {
   "cell_type": "code",
   "execution_count": 6,
   "metadata": {},
   "outputs": [],
   "source": [
    "class ExampleAlgorithm(Algorithm):\n",
    "\n",
    "    @Algorithm.indicator\n",
    "    def vol_difference(data, parameter=10):\n",
    "        return data['volume'].diff(10)\n",
    "\n",
    "    def on_data(self, data, portfolio):\n",
    "        return"
   ]
  },
  {
   "cell_type": "code",
   "execution_count": 7,
   "metadata": {},
   "outputs": [],
   "source": [
    "backtester = Backtester(ExampleAlgorithm, ['AAPL', 'GOOG'],\n",
    "                        data=data_folder_dir,  tests=20)"
   ]
  },
  {
   "cell_type": "code",
   "execution_count": 10,
   "metadata": {},
   "outputs": [
    {
     "ename": "TypeError",
     "evalue": "__init__() takes no keyword arguments",
     "output_type": "error",
     "traceback": [
      "\u001b[1;31m---------------------------------------------------------------------------\u001b[0m",
      "\u001b[1;31mTypeError\u001b[0m                                 Traceback (most recent call last)",
      "\u001b[1;32mc:\\Users\\isaac\\git\\algo-backtester\\demo.ipynb Cell 6\u001b[0m in \u001b[0;36m<cell line: 9>\u001b[1;34m()\u001b[0m\n\u001b[0;32m      <a href='vscode-notebook-cell:/c%3A/Users/isaac/git/algo-backtester/demo.ipynb#W5sZmlsZQ%3D%3D?line=0'>1</a>\u001b[0m backtester\u001b[39m.\u001b[39mset_algorithm_params({\n\u001b[0;32m      <a href='vscode-notebook-cell:/c%3A/Users/isaac/git/algo-backtester/demo.ipynb#W5sZmlsZQ%3D%3D?line=1'>2</a>\u001b[0m     \u001b[39m\"\u001b[39m\u001b[39mname\u001b[39m\u001b[39m\"\u001b[39m: \u001b[39m\"\u001b[39m\u001b[39mTest\u001b[39m\u001b[39m\"\u001b[39m,\n\u001b[0;32m      <a href='vscode-notebook-cell:/c%3A/Users/isaac/git/algo-backtester/demo.ipynb#W5sZmlsZQ%3D%3D?line=2'>3</a>\u001b[0m })\n\u001b[0;32m      <a href='vscode-notebook-cell:/c%3A/Users/isaac/git/algo-backtester/demo.ipynb#W5sZmlsZQ%3D%3D?line=4'>5</a>\u001b[0m backtester\u001b[39m.\u001b[39mset_indicator_params({\n\u001b[0;32m      <a href='vscode-notebook-cell:/c%3A/Users/isaac/git/algo-backtester/demo.ipynb#W5sZmlsZQ%3D%3D?line=5'>6</a>\u001b[0m \n\u001b[0;32m      <a href='vscode-notebook-cell:/c%3A/Users/isaac/git/algo-backtester/demo.ipynb#W5sZmlsZQ%3D%3D?line=6'>7</a>\u001b[0m })\n\u001b[1;32m----> <a href='vscode-notebook-cell:/c%3A/Users/isaac/git/algo-backtester/demo.ipynb#W5sZmlsZQ%3D%3D?line=8'>9</a>\u001b[0m results \u001b[39m=\u001b[39m backtester\u001b[39m.\u001b[39;49mbacktest_strategy()\n\u001b[0;32m     <a href='vscode-notebook-cell:/c%3A/Users/isaac/git/algo-backtester/demo.ipynb#W5sZmlsZQ%3D%3D?line=9'>10</a>\u001b[0m \u001b[39mprint\u001b[39m(results)\n",
      "File \u001b[1;32mc:\\Users\\isaac\\git\\algo-backtester\\qfin\\cybacktester.pyx:88\u001b[0m, in \u001b[0;36mqfin.cybacktester.CythonBacktester.backtest_strategy\u001b[1;34m()\u001b[0m\n\u001b[0;32m     86\u001b[0m def backtest_strategy(self):\n\u001b[0;32m     87\u001b[0m     \n\u001b[1;32m---> 88\u001b[0m     algorithm = self._strategy(*tuple(), **self._algorithm_params)\n\u001b[0;32m     89\u001b[0m \n\u001b[0;32m     90\u001b[0m     # TODO check instaniated\n",
      "\u001b[1;31mTypeError\u001b[0m: __init__() takes no keyword arguments"
     ]
    }
   ],
   "source": [
    "# backtester.set_algorithm_params({\n",
    "#     \"name\": \"Test\",\n",
    "# })\n",
    "\n",
    "backtester.set_indicator_params({\n",
    "    \"vol_difference\": {\n",
    "        \"paramter\": 0,\n",
    "    }\n",
    "})\n",
    "\n",
    "results = backtester.backtest_strategy()\n",
    "print(results)"
   ]
  }
 ],
 "metadata": {
  "kernelspec": {
   "display_name": "Python 3.10.0 64-bit",
   "language": "python",
   "name": "python3"
  },
  "language_info": {
   "codemirror_mode": {
    "name": "ipython",
    "version": 3
   },
   "file_extension": ".py",
   "mimetype": "text/x-python",
   "name": "python",
   "nbconvert_exporter": "python",
   "pygments_lexer": "ipython3",
   "version": "3.10.0"
  },
  "orig_nbformat": 4,
  "vscode": {
   "interpreter": {
    "hash": "369f2c481f4da34e4445cda3fffd2e751bd1c4d706f27375911949ba6bb62e1c"
   }
  }
 },
 "nbformat": 4,
 "nbformat_minor": 2
}
